{
 "cells": [
  {
   "cell_type": "markdown",
   "metadata": {
    "ExecuteTime": {
     "end_time": "2021-09-26T07:09:49.993525Z",
     "start_time": "2021-09-26T07:09:49.957577Z"
    }
   },
   "source": [
    "# Time series is still not \"solved\"\n",
    "\n",
    "On the most \"ubiquitously cited\" tasks, as image classification, with the advent of Deep Learning, we see steady progress.\n",
    "\n",
    "<img src=\"http://drive.google.com/uc?export=view&id=1oloHhvznr2jpx5XwBieCCbI9FyLIl_nK\" width=65%>\n",
    "\n",
    "\n",
    "[source](https://www.researchgate.net/publication/356083410_A_Survey_on_Green_Deep_Learning)\n",
    "\n",
    "On the other hand, from business perspective more prevalent task of time series forecasting receives comparatively less attention and progress is definitely more difficult to follow. This comes partly from the fact, that the variety of time series is presumably large, in many cases solving one forecasting problem has nothing to say about another one (or one might think so - and we will argue otherwise), and partly from the fact, that the most prestiguous benchmar in the field, the [M competition](https://forecasters.org/resources/time-series-data/) is organized more rarely and it's successive installments do not really lend themselves to easy comparison.\n",
    "\n",
    "That seaid, the introduction of RNN/LSTM models represented a step in the time series prediction domain. None the less, the need for advancements in multiple areas remained, since models could be enhanced with respect to:\n",
    "\n",
    "- interpretability\n",
    "- confidence intervals (see eg.: [DeepAR](https://arxiv.org/abs/1704.04110))\n",
    "- multi step forecasting\n",
    "- __better accuracy__ and most importantly\n",
    "- __transfer learning__\n",
    "\n",
    "In our current discussion, we mainly focus on this latter two points."
   ]
  },
  {
   "cell_type": "markdown",
   "metadata": {
    "ExecuteTime": {
     "end_time": "2021-09-26T07:09:49.993525Z",
     "start_time": "2021-09-26T07:09:49.957577Z"
    }
   },
   "source": [
    "## Competitive results\n",
    "\n",
    "Even though RNN/LSTM based models could produce strong results in certain domains of time series modeling, and came with the added benefit of deep representations (like handling of different length timeseries, seq2seq scenarios, fixed length representation abilities and __potential transferability__), their __practical performance was often case not dominantly better than classical__, eg. autoregressive models, especially eg. Facebook's [Prophet](https://facebook.github.io/prophet/) or even [ARIMA](https://en.wikipedia.org/wiki/Autoregressive_integrated_moving_average).\n",
    "\n",
    "The main \"measuring rod\" for model performance in time series modeling, the [M4 competition](https://www.sciencedirect.com/science/article/pii/S0169207019301128) showed, that hybrid approaches __combining classical models with LSTMs__ can be pretty competitive solutions, so the next era can be described by these kind of approaches."
   ]
  },
  {
   "cell_type": "markdown",
   "metadata": {
    "ExecuteTime": {
     "end_time": "2021-09-26T07:09:49.993525Z",
     "start_time": "2021-09-26T07:09:49.957577Z"
    }
   },
   "source": [
    "## An example of hybrid models: ES-LSTM\n",
    "\n",
    "<a href=\"http://drive.google.com/uc?export=view&id=1YHhnPMLvLdRMZCTgADbO_zlXWdFVx0w6\"><img src=\"https://drive.google.com/uc?export=view&id=1OSM9XKUAw10hj-STVKBYfF4Zbyw10MzC\" width=55%></a>\n",
    "\n",
    "Source: [M4 Forecasting Competition: Introducing a New Hybrid ES-RNN Model](https://eng.uber.com/m4-forecasting-competition/)"
   ]
  },
  {
   "cell_type": "markdown",
   "metadata": {
    "ExecuteTime": {
     "end_time": "2021-09-26T07:09:49.993525Z",
     "start_time": "2021-09-26T07:09:49.957577Z"
    }
   },
   "source": [
    "Though there are many technicalities worth studying in detail, the main intuition behind this model is to replace the linear trend assumption in the Holt-Winters Exponential Smoothing model to accommodate more complex, \"non linear trend\" in the form of LSTMs, and keeping the ability of ES models to describe the \"level\" and \"seasonal\" components in the traditional way."
   ]
  },
  {
   "cell_type": "markdown",
   "metadata": {
    "ExecuteTime": {
     "end_time": "2021-09-26T07:09:49.993525Z",
     "start_time": "2021-09-26T07:09:49.957577Z"
    }
   },
   "source": [
    "There is also a newer, multivariate extension of ES-RNN calles [MES-RNN](https://arxiv.org/abs/2112.08618) available.\n",
    "\n",
    "<img src=\"http://drive.google.com/uc?export=view&id=1Oi0vbv4_G96Vy3LetxdgFWmFZcg8Em2A\" width=65%>"
   ]
  },
  {
   "cell_type": "markdown",
   "metadata": {
    "ExecuteTime": {
     "end_time": "2021-09-26T07:09:49.993525Z",
     "start_time": "2021-09-26T07:09:49.957577Z"
    }
   },
   "source": [
    "# Do transformers come to time series?\n",
    "\n",
    "We already know, that attention based architectures, \"transformers\" caused a revolution in the NLP domain, and are increasingly present also in the computer vision domain (eg. in form of [hybrid attention / convolution solutions](https://arxiv.org/abs/2106.04803), representing the state of the art on imagenet as of September 2021). The question naturally arises, if transformers can be of benefit also in the time series domain?"
   ]
  },
  {
   "cell_type": "markdown",
   "metadata": {
    "ExecuteTime": {
     "end_time": "2021-09-26T07:09:49.993525Z",
     "start_time": "2021-09-26T07:09:49.957577Z"
    }
   },
   "source": [
    "## Potential benefits\n",
    "\n",
    "Isaac Godfried summarizes the potential benefits of transformers in the time series domain in his [short talk](https://www.youtube.com/watch?v=zteRgsiWcxI&t=225s) quite nicely:\n",
    "\n",
    "<a href=\"http://drive.google.com/uc?export=view&id=1IHH9b4dZlJonuYN1_7OElWYRH_Mzia97\"><img src=\"https://drive.google.com/uc?export=view&id=19n538WWN0ionGDYYBb8z4ZDpLBlzdIpw\" width=45%></a>\n",
    "\n",
    "Also worth mentioning, that the potential performance enhancements in large scale training are also promising. "
   ]
  },
  {
   "cell_type": "markdown",
   "metadata": {
    "ExecuteTime": {
     "end_time": "2021-09-26T07:09:49.993525Z",
     "start_time": "2021-09-26T07:09:49.957577Z"
    }
   },
   "source": [
    "## Theoretical motivation\n",
    "\n",
    "As a theoretical motivation for the possible extra performance of the attention based models comes from the fact, that they offer a different paradigm for discovering the temporal relationships between different points in the timeseries, namely:"
   ]
  },
  {
   "cell_type": "markdown",
   "metadata": {
    "ExecuteTime": {
     "end_time": "2021-09-26T07:09:49.993525Z",
     "start_time": "2021-09-26T07:09:49.957577Z"
    }
   },
   "source": [
    "- __Convolutions__ are presupposing, that there is a kind of __local relationship__ between the time points (which can be made more proper with \"causal convolutions\" and more wide with \"dilated convolutions\"), none the less, the basic assumption remains fairly local.\n",
    "\n",
    "<a href=\"https://storage.googleapis.com/deepmind-live-cms/documents/BlogPost-Fig2-Anim-160908-r01.gif\"><img src=\"https://drive.google.com/uc?export=view&id=1VadvwmhZ1--Wx6O1JR2G30anydCdk-mc\" width=45%></a>"
   ]
  },
  {
   "cell_type": "markdown",
   "metadata": {
    "ExecuteTime": {
     "end_time": "2021-09-26T07:09:49.993525Z",
     "start_time": "2021-09-26T07:09:49.957577Z"
    }
   },
   "source": [
    "- __RNN/LSTM models__ though have the potential for long term memory, but have the drawback not just of __sequential computation__ but also tha __challenge of \"dragging the information\" through many timesteps__. There is no easy possibility for an LSTM to pay direct, local attention to a distant timestep by \"jumping over\" all the steps inbetween.\n",
    "\n",
    "<a href=\"https://static.wixstatic.com/media/3eee0b_969c1d3e8d7943f0bd693d6151199f69~mv2.gif\"><img src=\"https://drive.google.com/uc?export=view&id=1Np87UUp-5YD_34LyG0Z-sO-OyCShaDcv\" width=45%></a>"
   ]
  },
  {
   "cell_type": "markdown",
   "metadata": {
    "ExecuteTime": {
     "end_time": "2021-09-26T07:09:49.993525Z",
     "start_time": "2021-09-26T07:09:49.957577Z"
    }
   },
   "source": [
    "The attention based solutions promise to enable just that: the possibility to attend to any point in time (inside the processing window, that is), diractly and parallelizably.\n",
    "\n",
    "<img src=\"http://drive.google.com/uc?export=view&id=1xM_y7bGSQ7YkT7kFgev26fwuShWb0fVO\" width=65%>\n",
    "\n",
    "[source](https://paperswithcode.com/paper/self-attention-for-raw-optical-satellite-time)"
   ]
  },
  {
   "cell_type": "markdown",
   "metadata": {
    "ExecuteTime": {
     "end_time": "2021-09-26T07:09:49.993525Z",
     "start_time": "2021-09-26T07:09:49.957577Z"
    }
   },
   "source": [
    "## Why not just slap a transformer on it?\n",
    "\n",
    "Though it may sound very tempting to just take an \"out of the box\" implementation of transformers and apply it to a given time series, there are multiple drawbacks that have to be addressed before one can expect good results.\n",
    "\n",
    "As outlined in the paper [Enhancing the Locality and Breaking the Memory Bottleneck of Transformer on Time Series Forecasting](https://arxiv.org/abs/1907.00235) there are potentially two main drawbacks for \"vanila\" transformers in TS omain that have to be mitigated:\n",
    "\n",
    "1. Locality insensitivity\n",
    "2. Quadratic dependence bottleneck"
   ]
  },
  {
   "cell_type": "markdown",
   "metadata": {
    "ExecuteTime": {
     "end_time": "2021-09-26T07:09:49.993525Z",
     "start_time": "2021-09-26T07:09:49.957577Z"
    }
   },
   "source": [
    "### Locality insensitivity problem\n",
    "\n",
    "It is important to observe, that even in case of NLP transformers, the attention mechanisms were completely position agnostic, hence additional information had to be supplied ti the model to \"mark\" the position of given elements in a sequence. In the NLP case some [positional encoding](https://towardsdatascience.com/master-positional-encoding-part-i-63c05d90a0c3) had to be utilized in the form of multiplication with the input embeddings.\n",
    "\n",
    "<a href=\"https://www.researchgate.net/publication/327068570/figure/fig3/AS:660457148928000@1534476663109/The-original-positional-encoding-used-in-Attention-Is-All-You-Need-VSP-17-composed.png\"><img src=\"https://drive.google.com/uc?export=view&id=13PZAH1REUi3hImSY6O-8RYoQf8PYlKco\" width=45%></a>\n",
    "\n",
    "Notably, the inputs in the case of NLP were complex embedding vectors themselves, but in case of time series, they are typically just scalars (per input time series, which in case of multivariate modeling naturally forms vectors), which are by no means embeddings."
   ]
  },
  {
   "cell_type": "markdown",
   "metadata": {
    "ExecuteTime": {
     "end_time": "2021-09-26T07:09:49.993525Z",
     "start_time": "2021-09-26T07:09:49.957577Z"
    }
   },
   "source": [
    "One of the avenues one can take here is to utilize some form of sinusoidal [time encoding](https://ianlondon.github.io/blog/encoding-cyclical-features-24hour-time/). Though not totally clear that only adding these encodings as additional features (as if they were additional time series inputs for the models) is sufficient, and also if how their exact periodicity should be set up."
   ]
  },
  {
   "cell_type": "markdown",
   "metadata": {
    "ExecuteTime": {
     "end_time": "2021-09-26T07:09:49.993525Z",
     "start_time": "2021-09-26T07:09:49.957577Z"
    }
   },
   "source": [
    "Fort he latter problem, something like [time2vec](https://arxiv.org/abs/1907.05321) embedding, that are learnable time encodings can be of service.\n",
    "\n",
    "<a href=\"http://drive.google.com/uc?export=view&id=1SgFlwYAYbdYweSNb4T08-DbVO1_vljmK\"><img src=\"https://drive.google.com/uc?export=view&id=1UUchz4WivadH4aFiwmK-UX1DdUgcU2VW\" width=30%></a>"
   ]
  },
  {
   "cell_type": "markdown",
   "metadata": {
    "ExecuteTime": {
     "end_time": "2021-09-26T07:09:49.993525Z",
     "start_time": "2021-09-26T07:09:49.957577Z"
    }
   },
   "source": [
    "In case of the [\"Enhancing locality...\"](https://arxiv.org/abs/1907.00235) paper they give a different interpretation of the locality problem, namely: they would like to enhance the model's ability to incorporate information from the sorrounding timepoints, or more specifically the recent past of a given timestep during the generation of query and key vectors in attention. They achieve this by introducing some locality assumptions in form of causal convolutions. More on this below."
   ]
  },
  {
   "cell_type": "markdown",
   "metadata": {
    "ExecuteTime": {
     "end_time": "2021-09-26T07:09:49.993525Z",
     "start_time": "2021-09-26T07:09:49.957577Z"
    }
   },
   "source": [
    "### Quadratic dependence problem\n",
    "\n",
    "In it's basic form, self attention is having a __quadratic complexity with respect to sequence length__, that is, if the input sequence becomes large enough, the application of classical attention layers becomes simple infeasible."
   ]
  },
  {
   "cell_type": "markdown",
   "metadata": {
    "ExecuteTime": {
     "end_time": "2021-09-26T07:09:49.993525Z",
     "start_time": "2021-09-26T07:09:49.957577Z"
    }
   },
   "source": [
    "The proposed solution of the authors is [LogSparse Transformer](https://arxiv.org/abs/1907.00235), which is basically a strategy to balance the need for a wide enough input window and a reasonable amount of computation. The paper achieves it by a kind of sampling strategy, in which the immediate past for the current prediction horizon is accessible in it's completeness, and the more distant past is subsampled in tricky ways to keep the balance.\n",
    "\n",
    "<a href=\"https://user-images.githubusercontent.com/42165262/75024151-50998c80-54dc-11ea-911d-8405b00bb8a7.png\"><img src=\"https://drive.google.com/uc?export=view&id=1eIxZ49q7My0fL-4elIDdVFjUj5o3m3IU\" width=65%></a>"
   ]
  },
  {
   "cell_type": "markdown",
   "metadata": {
    "ExecuteTime": {
     "end_time": "2021-09-26T07:09:49.993525Z",
     "start_time": "2021-09-26T07:09:49.957577Z"
    }
   },
   "source": [
    "## Is this the end?\n",
    "\n",
    "Certainly not. Hybridization, as observed already in case of computer vision continues in the TS domain, namely a convolutional - attentional hybrid approach has been proposed in the work [Enhancing the Locality and Breaking the Memory Bottleneck of Transformer on Time Series Forecasting](https://arxiv.org/abs/1907.00235).\n",
    "\n",
    "<a href=\"https://miro.medium.com/max/1214/1*YBbULIOPnECwvW7fy9NK7A.png\"><img src=\"https://drive.google.com/uc?export=view&id=1TAP366xiVO54xYFt7uTmXkkE6i9gfUab\" width=45%></a>\n",
    "\n",
    "\"We propose convolutional self attention mechanism by employing causal convolutions to produce queries and keys in the self attention layer. Query-key matching aware of local context, e.g. shapes, can help the model achieve lower training error and further improve its forecasting accuracy.\"\n",
    "\n",
    "It can be assumed, that further hybrid models will appear.\n",
    "\n",
    "More details and overview can be found [here](https://towardsdatascience.com/attention-for-time-series-classification-and-forecasting-261723e0006d)."
   ]
  },
  {
   "cell_type": "markdown",
   "metadata": {},
   "source": [
    "# Full connections strike back end-to-end!\n",
    "\n",
    "Though one of the important trends pointed out by the M4 competition (and Makridakis himself, the \"M\" in the competition's name) was the hybridization of deep learning and classical tools, followed by other tries to bring the transformer revolution to the field, some \"rebels\" opted to design a generic, end-to-end, time series specific arhitecture with no classical models or attention blocks involved.\n",
    "\n",
    "The paper [\"N-BEATS: Neural basis expansion analysis for interpretable time series forecasting\"](https://arxiv.org/abs/1905.10437) proposes an architecture\n",
    "- inspired by classical time series decomposition techniques\n",
    "- containing only fully connected layers (with traditional linear or ReLU activations)\n",
    "- potentially having interpretability enhancing modifications\n",
    "- having generally high performance \n",
    "\n",
    "For this discussion we follow the lead of [this](https://github.com/mrdbourke/tensorflow-deep-learning/blob/main/10_time_series_forecasting_in_tensorflow.ipynb) excellent reproduction of the paper."
   ]
  },
  {
   "cell_type": "markdown",
   "metadata": {},
   "source": [
    "## General architecture:\n",
    "\n",
    "The general structure of the full architecture is as follows:\n",
    "\n",
    "<img src=\"http://drive.google.com/uc?export=view&id=1SaasyDMrv5rmeaQFEXsG-pT-dVPoUHWc\" width=55%>"
   ]
  },
  {
   "cell_type": "markdown",
   "metadata": {},
   "source": [
    "## The setup\n",
    "\n",
    "From the data perspective, the general setup is pretty traditional: we take an input window worth of historic data, and we are trying to predict a forward looking horizon.\n",
    "\n",
    "<img src=\"http://drive.google.com/uc?export=view&id=1mhsSq4qR8--FCXP3XcNQ5kwSuOk2XK7_\" width=45%>\n",
    "\n",
    "Please observe, that the optput can not just be a single point in time, but it can be a vector representing arbitrary many timepoints into the future."
   ]
  },
  {
   "cell_type": "markdown",
   "metadata": {},
   "source": [
    "## Single Block\n",
    "\n",
    "The difference in approach from previous solutions is, that the smallest unit of the whole architecture, the \"block\" is not just trying to generate a prediction about the future horizon __\"forecast\"__, but also some estimation / representation of the input window itself, a so called __\"backcast\"__. \n",
    "\n",
    "<img src=\"http://drive.google.com/uc?export=view&id=1_YPSYvSG5xAELUSX4B2qgvR1OM_qwLo3\" width=20%>"
   ]
  },
  {
   "cell_type": "markdown",
   "metadata": {},
   "source": [
    "This is achieved by having some (in the main implementation 4) __fully connected neural layers__ (originally with ReLU activations) generating some \"theta\" parameter layer, which is then used in two ways: \n",
    "1. One linear activation FC layer projects the layer's output to become the \"forecast\"\n",
    "2. Another, independent FC layer does the projection for the \"backcast\"\n",
    "\n",
    "This is so far nearly standard. The real gist of the solution lies in the usage of these blocks in \"stacks\"."
   ]
  },
  {
   "cell_type": "markdown",
   "metadata": {},
   "source": [
    "## The stack\n",
    "\n",
    "<img src=\"http://drive.google.com/uc?export=view&id=1HyvlrWBTsiIOgV86IE6B3DsJRuycQjI6\" width=20%>\n",
    "\n",
    "As demonstrated on the image above, the individual predictions, so the \"forecasts\" and \"backcasts\" from the blocks are handled differently.\n",
    "\n",
    "1. The role of the forecast is to __additively__ contribute to the full stack forecast (as in: adding together tome series components, like trend, seasonality, patterns,...)\n",
    "2. The role of the \"backcast\" is to __substractively__ remove the given components (trends, seasonalities, patterns,. etc.) from the input for a next layer of blocks.\n",
    "\n",
    "This can be considered the first kind of \"residual network\" behavior of the model."
   ]
  },
  {
   "cell_type": "markdown",
   "metadata": {},
   "source": [
    "## Multi stack\n",
    "\n",
    "Finally, the layering of stacks - on the input side, doing residual substraction, on the forecast side doing cumulative addition -  completes the whole model.\n",
    "\n",
    "<img src=\"http://drive.google.com/uc?export=view&id=1brqZOsGKk0GsATvycIIXBBjd2eyCA0_c\" width=20%>"
   ]
  },
  {
   "cell_type": "markdown",
   "metadata": {},
   "source": [
    "## Added tricks\n",
    "\n",
    "- Ensambling: For the final performance on competition data, unsurprisingly an ensamble of NBEATS models is created. This has dual purpose:\n",
    "    - Better accuracy\n",
    "    - Potential to easily do some confidence estimates based on a distribution of model outputs\n",
    "- Replacing the activation function of certain blocks to trend detecting (linear) and season detecting (sinusoidal) activations, thus enhancing model interpretability in the original spirit of time series decomposition"
   ]
  },
  {
   "cell_type": "markdown",
   "metadata": {},
   "source": [
    "## A variant for longer horizons: N-HiTS\n",
    "\n",
    "Thöough very similar in the general concept, a new variant of N-BEATS named [N-HiTS](https://arxiv.org/pdf/2201.12886.pdf) emerged recently as a refinement and adaptation especially for long horizon forecasting."
   ]
  },
  {
   "cell_type": "markdown",
   "metadata": {},
   "source": [
    "The general picture is basically the same.\n",
    "\n",
    "<img src=\"http://drive.google.com/uc?export=view&id=1peT8L_rVkrHXzcDLb_THFbHWbOHogX3u\" width=65%>"
   ]
  },
  {
   "cell_type": "markdown",
   "metadata": {},
   "source": [
    "Though there are two specific differences worth noting:\n",
    "\n",
    "<img src=\"http://drive.google.com/uc?export=view&id=120qabPkKsq_XWhQ3fku6SJF7DYmt3RQi\" width=15%>"
   ]
  },
  {
   "cell_type": "markdown",
   "metadata": {},
   "source": [
    "1. The addition of a $MaxPool$ layer into the blocks, that in the words of the authors:\n",
    "\n",
    "\"At the input to each block ℓ, we propose to use a MaxPool layer with kernel size $k_{ℓ}$ to help it focus on analyzing compo- nents of its input with a specific scale. Larger $k_{ℓ}$ will tend to cut more high-frequency/small-time-scale components from the input of the MLP, forcing the block to focus on analyzing large scale/low frequency content. We call this multi-rate signal sampling, referring to the fact that the MLP in each block faces a different effective input signal sampling rate. Intuitively, this helps the blocks with larger pooling kernel size $k_{ℓ}$ focus on analyzing large scale components critical for producing consistent long-horizon forecasts.\""
   ]
  },
  {
   "cell_type": "markdown",
   "metadata": {},
   "source": [
    "2. Addition of an interpolation mechanism in the generation of fore and backcasts, that serves as a performance enhancer, since it enables the model to keep the number of parameters reasonably low even in the case of a longer term forecast. Contrast this to the fact that Transformers in their default case scale quadratically with respect to input lengts, but even the advanced versions of them, as well as the N-BEATS model is constrained by needing as many output nodes as timesteps in the forecast. The interpolation method in N-HiTS effectively mitigates that."
   ]
  },
  {
   "cell_type": "markdown",
   "metadata": {},
   "source": [
    "This - beyond the pure computational advantages - offers benefits in the smoothness, thus, the robustness of predictions:\n",
    "\n",
    "<img src=\"http://drive.google.com/uc?export=view&id=10Dl4tqWySHLa4juwa3AbAr_wVWmrr9Gs\" width=45%>"
   ]
  },
  {
   "cell_type": "markdown",
   "metadata": {},
   "source": [
    "# Summary of architectural approaches\n",
    "\n",
    "With considerable amount of handwaving, one can argue, that even in case of the newly proposed neural architectures, some classical intuitions remain, thus one can in a sense treat the big approaches to neural model building as \"analogons\" of the \"good old\" techniques in the sense, that they represent specific inductive biases capitalizing on one or the other properties of time series.\n",
    "\n",
    "| Intuition  |  Non-neural model class |  Neural \"analogue\" examples|\n",
    "|---|---|---|\n",
    "|  Local/neighbouring influence / short term memory | Wavelets  | ConvNet / TCN  |   \n",
    "|  Cumulativity / smoothing / longer term \"blurry\" influence | ExponentialSmoothing   | LSTM variants |   \n",
    "|  Pointwise distant influence |  tree based regression models  | Attention / Transformer |   \n",
    "|  Composability from (continuous) \"shapes\" |  \"decomposition methods\"  |  N-BEATS/HiTS |   \n",
    "\n",
    "\n",
    "There are also bodies of work in applying explicit Fourier transform based neural methods see eg. [here](https://arxiv.org/pdf/2109.13090.pdf) and ordinary differential equation based neural models see eg. [here](https://arxiv.org/pdf/2010.00951.pdf)."
   ]
  },
  {
   "cell_type": "markdown",
   "metadata": {},
   "source": [
    "# Transfer learning in time series\n",
    "\n",
    "Generally, one could reasonably argue, that the main innovation of Deep Learning is the representation ability of the models, that learns useful \"embeddings\" of the data over and beyond the strict confines of a given dataset, or even a given domain. It is by no surprise, that Ian Goodfellow in his famouis venn diagram puts Deep Learing squarely into the representation learning category.\n",
    "\n",
    "<img src=\"http://drive.google.com/uc?export=view&id=1Z8p7XZZTV3zOIsYlmLrggoAs0Ach_hDt\" width=35%>\n",
    "\n",
    "In case of visual, audio and NLP tasks the dominance of transfer learning - that is, the pre-training on large scale domain independent data, then finetuning (or even just \"prompt engineering\") the model is asolute. It is arguably the essence of the success."
   ]
  },
  {
   "cell_type": "markdown",
   "metadata": {},
   "source": [
    "But how about transfer learning in time series?\n",
    "\n",
    "Though we could speak about __domain adaptation__ AND task adaptation in case of transfer learning, we restrict ourselves to the former, so where the data is different, the task itself, in the simplest case forecasting is the same. "
   ]
  },
  {
   "cell_type": "markdown",
   "metadata": {},
   "source": [
    "## Gaining traction\n",
    "\n",
    "In their work [Transfer Learning With Time Series Data A Systematic Mapping Study](https://www.researchgate.net/publication/356945141_Transfer_Learning_With_Time_Series_Data_A_Systematic_Mapping_Study) the authors collect over 200 papers that talk about transfer learning in this field up until January 2021 (hence the funny data at the last bar).\n",
    "\n",
    "<img src=\"http://drive.google.com/uc?export=view&id=1vMAIoeBCoXNzaeuqgr-rl7wnQvsaNUjh\" width=45%>\n",
    "\n",
    "It is visible, that this field is gaining considerable traction!"
   ]
  },
  {
   "cell_type": "markdown",
   "metadata": {},
   "source": [
    "Interestingly, in case of a more fine grained categorization of tasks the authors find, that time series classification dominates, maybe pointing toward the difficulty or (more likely) underutilization of the transfer learning approach to forecasting problems.\n",
    "\n",
    "<img src=\"http://drive.google.com/uc?export=view&id=1dGRNVt1ab22VtB0ynh1jI9ny-_nV-IJV\" width=45%>"
   ]
  },
  {
   "cell_type": "markdown",
   "metadata": {},
   "source": [
    "## Challenges in time series transfer learning\n",
    "\n",
    "### 1. What hierarchy?\n",
    "\n",
    "As [this](https://towardsdatascience.com/transfer-learning-for-time-series-forecasting-51f023bc159c) wonderful article of Isaac Godfried argues, __what features to transfer__, or more specificly __what feature hierarchy to learn__ is not a simple task in case of time series. Or as the author puts it:\n",
    "\n",
    "\"In computer vision transfer learning generally works as the model learns in a hierarchical fashion; ...  in NLP ...  The transformer architecture in particular functioned well for transfer learning.  with time series it is harder to find a useful hierarchy or set of intermediate representations that generalize across to different problems. __We do have certain components that people traditionally decompose time series into such as seasonality, trend and remainder. However, developing a model that effectively learns intermediate decoupled representations of these remains elusive.__ The authors of “Reconstruction and Regression Loss for Time-Series Transfer Learning” explore creating a specialized loss function that helps to facilitate positive transfer through a decoupling process.\""
   ]
  },
  {
   "cell_type": "markdown",
   "metadata": {},
   "source": [
    "In our view, this kind of decomposition - the natural hierarchy for time series features - is a promising avenue to go, and might hint at the application of [NBEATS](https://arxiv.org/abs/1905.10437) like models."
   ]
  },
  {
   "cell_type": "markdown",
   "metadata": {},
   "source": [
    "#### Sidenote: different magnitudes\n",
    "\n",
    "A subproblem of the input differences arises from the fact, that the numeric magnitudes of timeseries differ. To circumvent this limitation, one proposal is to re-cast the original regression problem to an __ordinal regression__ task, where all the timeseries are discretized with an adaptive discretization into a fixed number of \"bins\", thus basically reducing the problem to predicting the next \"bin\" or by analogy \"word\" - if we follow the intuition of the authors pointing out the parallels with NLP:\n",
    "\n",
    "<img src=\"http://drive.google.com/uc?export=view&id=1tnmY_15y1Gn4Elo35-mZiBcchwGMDuwM\" width=45%>\n",
    "\n",
    "Source: [Zero-shot and few-shot time series forecasting with ordinal regression recurrent neural networks](https://www.esann.org/sites/default/files/proceedings/2020/ES2020-71.pdf)\n",
    "\n",
    "Though the authors stick to an LSTM based seq2seq approach, nothing prevents us from aplpying more recent models the same way, so this can be an interesting avenue for further investigation."
   ]
  },
  {
   "cell_type": "markdown",
   "metadata": {},
   "source": [
    "### 2. What inputs?\n",
    "\n",
    "Moreover, the Godfried points out:\n",
    "\n",
    "\"A second challenge with multivariate time series forecasting is that many times the problems have a different number of feature time series. \n",
    "\n",
    "In our experiments we have generally found using a model specific initial “embedding_layer” helpful then having transferable middle layers.\"\n",
    "\n",
    "So some care has to be taken in case os multivariate time series, but this does not seem to be a showstopper in itself."
   ]
  },
  {
   "cell_type": "markdown",
   "metadata": {},
   "source": [
    "### 3. What source to transfer from?\n",
    "\n",
    "Even in case of \"classical\" domains of machine learning it is a widesprad observation, that the similarity between source and target datasets considered for transfer learning constrain the possible amount of performance gain: __the more closely source and target are related, the more gains can be had__.\n",
    "    \n",
    "It is absolutely not unreasonable to assume that this is a case in time series data also. \n",
    "\n",
    "None the less, the diversity of time series datasets can be considerable, measuring their relatedness is not a trivial task. Though the most proper way to measure similarity between time series data presupposes some kind of description / modeling already, so this can be a kind of vicious circle: if we understand a dataset, we can perfectly discover it's relations to other ones. Not wanting to make this to an infinite regress, the authors of the paper [Implementing transfer learning across different datasets for time\n",
    "series forecasting](https://www.sciencedirect.com/science/article/abs/pii/S0031320320304209) suggest, that __more simple alignement and distance measures can be used to pre-select relevant time series for modeling.__ Namely: they propose to do [Dynamic Time Warping](https://en.wikipedia.org/wiki/Dynamic_time_warping) to align series, and then use [Jenssen-Shannon divergence](https://en.wikipedia.org/wiki/Jensen%E2%80%93Shannon_divergence) to calculate elatedness and choose sources for transfer. \n",
    "\n",
    "<img src=\"http://drive.google.com/uc?export=view&id=1vwQgvvBTFv7IEW0ltGcz_K3lSjibdU41\" width=55%>\n",
    "\n",
    "#### Sidenote of interest: \n",
    "\n",
    "In the aformentioned work the authors also utilize causal convnets as basis learners, as well as a joint training and representation alignment loss based approach to carry out the transfer. The second best behaving model is transfer learned TCN."
   ]
  },
  {
   "cell_type": "markdown",
   "metadata": {},
   "source": [
    "#### A more elaborate approach to \"pairing\"\n",
    "\n",
    "As a more subtle observation, one could argue, that the mere \"surface level\" similarity of two time series (eg. their \"time domain\" distance based on some metric) is the most appropriate tool to judge the usefulness of a given source dataset in the transfer learning scenario in order to achiece the highest performance on the target dataset.\n",
    "\n",
    "Some recent works, like [\"A relationship-aligned transfer learning algorithm for time series forecasting\"](https://www.sciencedirect.com/science/article/abs/pii/S0020025522001104) set out to tackle this uestion by searching for alignment / choice of suitable source time series __in the space of learned representations__.\n",
    "\n",
    "<img src=\"http://drive.google.com/uc?export=view&id=1Fjb2cBcJHWz65xRCtYXKCnRqoN0ivvrZ\" width=65%>\n",
    "\n",
    "Let us go through the steps laid out in the paper:\n",
    "\n",
    "__STEP 1.__\n",
    "\n",
    "\"Specifically, during the design and construction of the proposed RATL algorithm, \n",
    "\n",
    "__we firstly design 'a representation learning module.__\n",
    "\n",
    "It is viewed as the encoder and is utilized to explore the underlying features of time series. In the source dataset \n",
    "selection phase, in order to measure whether a potential source dataset is in favor of the target task, an encoder trained based on this dataset is applied to the target task to produce the informative representations. Then, a simple linear layer is added to perform the prediction on basis of these representations. ... the prediction performance of the linear layer can also, to some extent, reflect the effectiveness of the representation learning \n",
    "module. The better the forecasting performance is, the more suitable the encoder will be to the target task.\"\n",
    "\n",
    "\n",
    "__STEP 2.__\n",
    "\n",
    "After the choice of the most suitable sources, a separate step for representation learning is initialized to get to the appropriate representation for the target dataset.\n",
    "\n",
    "__STEP 3. and 4.__\n",
    "\n",
    "Relationship aligned learning phase, the encoder module if frozen, and a triplet similarity based learning procedure is initialized to learn an alignment transformation between the source and target encoders's representations.\n",
    "\n",
    "__STEP 5.__\n",
    "\n",
    "Regression aligned learning phase one more layer of finetuning is acrried out to maximize the regression performance over the previous representations with respect to forecasting performance.\n",
    "\n",
    "__STEP 6.__\n",
    "\n",
    "Final target prediction is carried out.\n",
    "\n",
    "\n",
    "Some results:\n",
    "\n",
    "<img src=\"http://drive.google.com/uc?export=view&id=1qWBeq2-2Qe1PfVWVGOtaylP0Ji1Pkays\" width=65%>\n",
    "\n",
    "##### Observation\n",
    "\n",
    "A really delicate and elaborate methodology has to be utilized to achieve an at best modest increase in predictive performance. "
   ]
  },
  {
   "cell_type": "markdown",
   "metadata": {},
   "source": [
    "## ...Some promising results in general\n",
    "\n",
    "To quantify the potential of transfer learning in general, recently people started to more sytematically investigate the possible performance gains of transfer learning in time series forecasting domain, eg. in the work [Performance of Deep Learning models with transfer learning for multiple-step-ahead forecasts in monthly time series](https://arxiv.org/abs/2203.11196).\n",
    "\n",
    "The authors find, that transfer learning enhanced neural models beat non-neural baselines as well as offer advantages against only target trained neural models:\n",
    "\n",
    "<img src=\"http://drive.google.com/uc?export=view&id=1XS_-PmjmL9dF1hetYpa9_PXejLhY_9c1\" width=55%>\n"
   ]
  },
  {
   "cell_type": "markdown",
   "metadata": {},
   "source": [
    "It is worth noting, that this survey only includes \"regular\" convnets, LSTM-s and Temporal Convolution Networks, but no hybrid models, transformers or NBEATS derivatives.\n",
    "\n",
    "None the less __there seems to be potential in time series transfer learning__, that is worth taking a look at!\n",
    "\n",
    "Thus said, __one has the impression, that we are still waiting for a big breakthrough to come.__"
   ]
  },
  {
   "cell_type": "markdown",
   "metadata": {},
   "source": [
    "# Epilogue\n",
    "\n",
    "With all the innovation going on, this area of modeling is far from \"settled\". \n",
    "\n",
    "There is still considerable amount of well founded scepticism with regard to the dominance of deep learning techniques in the time series field, like in:\n",
    "\n",
    "[Do we really need deep learning for TS](https://arxiv.org/abs/2101.0211)\n",
    "\n",
    "It is thus still a question - albeit with some [positive results](https://arxiv.org/abs/2002.02887) if the \"zero shot learning\" paradigm, that came to dominate NLP will come to the time series domain.\n",
    "\n",
    "Keep an eye out for disruptive changes!"
   ]
  },
  {
   "cell_type": "markdown",
   "metadata": {},
   "source": [
    "## Additional resources\n",
    "\n",
    "Good intro to some recent tools in time series modeling:"
   ]
  },
  {
   "cell_type": "code",
   "execution_count": 4,
   "metadata": {},
   "outputs": [
    {
     "data": {
      "image/jpeg": "[encoded data removed]",
      "text/html": [
       "\n",
       "        <iframe\n",
       "            width=\"400\"\n",
       "            height=\"300\"\n",
       "            src=\"https://www.youtube.com/embed/ng8i5KPf6d0\"\n",
       "            frameborder=\"0\"\n",
       "            allowfullscreen\n",
       "            \n",
       "        ></iframe>\n",
       "        "
      ],
      "text/plain": [
       "<IPython.lib.display.YouTubeVideo at 0x7fdfc042b790>"
      ]
     },
     "execution_count": 4,
     "metadata": {},
     "output_type": "execute_result"
    }
   ],
   "source": [
    "from IPython import display\n",
    "display.YouTubeVideo(id=\"ng8i5KPf6d0\")"
   ]
  },
  {
   "cell_type": "markdown",
   "metadata": {},
   "source": [
    "Also very well worth studying:\n",
    "- [Time Series Analysis and Modeling to Forecast: a Survey](https://arxiv.org/abs/2104.00164)\n",
    "- [Transfer Learning With Time Series Data: A Systematic Mapping Study](https://www.researchgate.net/publication/356945141_Transfer_Learning_With_Time_Series_Data_A_Systematic_Mapping_Study)"
   ]
  }
 ],
 "metadata": {
  "kernelspec": {
   "display_name": "Python 3 (ipykernel)",
   "language": "python",
   "name": "python3"
  },
  "language_info": {
   "codemirror_mode": {
    "name": "ipython",
    "version": 3
   },
   "file_extension": ".py",
   "mimetype": "text/x-python",
   "name": "python",
   "nbconvert_exporter": "python",
   "pygments_lexer": "ipython3",
   "version": "3.8.12"
  },
  "toc": {
   "base_numbering": 1,
   "nav_menu": {},
   "number_sections": true,
   "sideBar": true,
   "skip_h1_title": false,
   "title_cell": "Table of Contents",
   "title_sidebar": "Contents",
   "toc_cell": false,
   "toc_position": {},
   "toc_section_display": true,
   "toc_window_display": false
  },
  "varInspector": {
   "cols": {
    "lenName": 16,
    "lenType": 16,
    "lenVar": 40
   },
   "kernels_config": {
    "python": {
     "delete_cmd_postfix": "",
     "delete_cmd_prefix": "del ",
     "library": "var_list.py",
     "varRefreshCmd": "print(var_dic_list())"
    },
    "r": {
     "delete_cmd_postfix": ") ",
     "delete_cmd_prefix": "rm(",
     "library": "var_list.r",
     "varRefreshCmd": "cat(var_dic_list()) "
    }
   },
   "types_to_exclude": [
    "module",
    "function",
    "builtin_function_or_method",
    "instance",
    "_Feature"
   ],
   "window_display": false
  }
 },
 "nbformat": 4,
 "nbformat_minor": 4
}
